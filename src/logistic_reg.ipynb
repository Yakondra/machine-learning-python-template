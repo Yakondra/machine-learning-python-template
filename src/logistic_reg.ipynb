{
 "cells": [
  {
   "cell_type": "markdown",
   "metadata": {},
   "source": [
    "# Logistic regression model"
   ]
  },
  {
   "cell_type": "code",
   "execution_count": 31,
   "metadata": {},
   "outputs": [
    {
     "data": {
      "text/html": [
       "<div>\n",
       "<style scoped>\n",
       "    .dataframe tbody tr th:only-of-type {\n",
       "        vertical-align: middle;\n",
       "    }\n",
       "\n",
       "    .dataframe tbody tr th {\n",
       "        vertical-align: top;\n",
       "    }\n",
       "\n",
       "    .dataframe thead th {\n",
       "        text-align: right;\n",
       "    }\n",
       "</style>\n",
       "<table border=\"1\" class=\"dataframe\">\n",
       "  <thead>\n",
       "    <tr style=\"text-align: right;\">\n",
       "      <th></th>\n",
       "      <th>age</th>\n",
       "      <th>job_num</th>\n",
       "      <th>marital_num</th>\n",
       "      <th>education_num</th>\n",
       "      <th>default_num</th>\n",
       "      <th>housing_num</th>\n",
       "      <th>loan_num</th>\n",
       "      <th>poutcome_num</th>\n",
       "      <th>duration</th>\n",
       "      <th>campaign</th>\n",
       "      <th>euribor3m</th>\n",
       "    </tr>\n",
       "  </thead>\n",
       "  <tbody>\n",
       "    <tr>\n",
       "      <th>0</th>\n",
       "      <td>-0.866345</td>\n",
       "      <td>0.137094</td>\n",
       "      <td>-0.733467</td>\n",
       "      <td>0.32667</td>\n",
       "      <td>-0.514523</td>\n",
       "      <td>-1.056317</td>\n",
       "      <td>-0.436504</td>\n",
       "      <td>-0.374664</td>\n",
       "      <td>-0.001387</td>\n",
       "      <td>-0.207371</td>\n",
       "      <td>0.712076</td>\n",
       "    </tr>\n",
       "    <tr>\n",
       "      <th>1</th>\n",
       "      <td>2.212954</td>\n",
       "      <td>0.544591</td>\n",
       "      <td>-0.733467</td>\n",
       "      <td>-1.04707</td>\n",
       "      <td>-0.514523</td>\n",
       "      <td>0.793304</td>\n",
       "      <td>-0.436504</td>\n",
       "      <td>-0.374664</td>\n",
       "      <td>0.250485</td>\n",
       "      <td>-0.566510</td>\n",
       "      <td>-1.659890</td>\n",
       "    </tr>\n",
       "    <tr>\n",
       "      <th>2</th>\n",
       "      <td>-0.096520</td>\n",
       "      <td>-0.270403</td>\n",
       "      <td>0.698855</td>\n",
       "      <td>-1.04707</td>\n",
       "      <td>-0.514523</td>\n",
       "      <td>0.793304</td>\n",
       "      <td>1.765063</td>\n",
       "      <td>-0.374664</td>\n",
       "      <td>0.068362</td>\n",
       "      <td>0.151767</td>\n",
       "      <td>0.773753</td>\n",
       "    </tr>\n",
       "    <tr>\n",
       "      <th>3</th>\n",
       "      <td>-1.155029</td>\n",
       "      <td>-0.677899</td>\n",
       "      <td>0.698855</td>\n",
       "      <td>-1.04707</td>\n",
       "      <td>1.941411</td>\n",
       "      <td>-1.056317</td>\n",
       "      <td>-0.436504</td>\n",
       "      <td>-0.374664</td>\n",
       "      <td>4.388935</td>\n",
       "      <td>-0.207371</td>\n",
       "      <td>-1.321532</td>\n",
       "    </tr>\n",
       "    <tr>\n",
       "      <th>4</th>\n",
       "      <td>1.058217</td>\n",
       "      <td>0.137094</td>\n",
       "      <td>-0.733467</td>\n",
       "      <td>0.32667</td>\n",
       "      <td>1.941411</td>\n",
       "      <td>0.793304</td>\n",
       "      <td>1.765063</td>\n",
       "      <td>-0.374664</td>\n",
       "      <td>0.056737</td>\n",
       "      <td>-0.566510</td>\n",
       "      <td>0.775482</td>\n",
       "    </tr>\n",
       "  </tbody>\n",
       "</table>\n",
       "</div>"
      ],
      "text/plain": [
       "        age   job_num  marital_num  education_num  default_num  housing_num  \\\n",
       "0 -0.866345  0.137094    -0.733467        0.32667    -0.514523    -1.056317   \n",
       "1  2.212954  0.544591    -0.733467       -1.04707    -0.514523     0.793304   \n",
       "2 -0.096520 -0.270403     0.698855       -1.04707    -0.514523     0.793304   \n",
       "3 -1.155029 -0.677899     0.698855       -1.04707     1.941411    -1.056317   \n",
       "4  1.058217  0.137094    -0.733467        0.32667     1.941411     0.793304   \n",
       "\n",
       "   loan_num  poutcome_num  duration  campaign  euribor3m  \n",
       "0 -0.436504     -0.374664 -0.001387 -0.207371   0.712076  \n",
       "1 -0.436504     -0.374664  0.250485 -0.566510  -1.659890  \n",
       "2  1.765063     -0.374664  0.068362  0.151767   0.773753  \n",
       "3 -0.436504     -0.374664  4.388935 -0.207371  -1.321532  \n",
       "4  1.765063     -0.374664  0.056737 -0.566510   0.775482  "
      ]
     },
     "execution_count": 31,
     "metadata": {},
     "output_type": "execute_result"
    }
   ],
   "source": [
    "import pandas as pd\n",
    "\n",
    "X_train = pd.read_csv('../data/processed/data_bank_train_X_norm.csv')\n",
    "X_test = pd.read_csv('../data/processed/data_bank_test_X_norm.csv')\n",
    "y_train = pd.read_csv('../data/processed/ytrain.csv')\n",
    "y_test = pd.read_csv('../data/processed/ytest.csv')\n",
    "\n",
    "X_train.head()"
   ]
  },
  {
   "cell_type": "code",
   "execution_count": 32,
   "metadata": {},
   "outputs": [
    {
     "data": {
      "text/plain": [
       "<bound method DataFrame.info of             age   job_num  marital_num  education_num  default_num  \\\n",
       "0     -0.866345  0.137094    -0.733467       0.326670    -0.514523   \n",
       "1      2.212954  0.544591    -0.733467      -1.047070    -0.514523   \n",
       "2     -0.096520 -0.270403     0.698855      -1.047070    -0.514523   \n",
       "3     -1.155029 -0.677899     0.698855      -1.047070     1.941411   \n",
       "4      1.058217  0.137094    -0.733467       0.326670     1.941411   \n",
       "...         ...       ...          ...            ...          ...   \n",
       "32935 -1.443714 -0.677899     0.698855      -1.047070    -0.514523   \n",
       "32936 -0.673889 -1.085396     0.698855      -1.047070    -0.514523   \n",
       "32937 -0.962573 -0.677899    -0.733467       1.242496    -0.514523   \n",
       "32938 -0.962573 -0.677899     0.698855       1.242496    -0.514523   \n",
       "32939  0.192164  0.137094    -0.733467       0.326670     1.941411   \n",
       "\n",
       "       housing_num  loan_num  poutcome_num  duration  campaign  euribor3m  \n",
       "0        -1.056317 -0.436504     -0.374664 -0.001387 -0.207371   0.712076  \n",
       "1         0.793304 -0.436504     -0.374664  0.250485 -0.566510  -1.659890  \n",
       "2         0.793304  1.765063     -0.374664  0.068362  0.151767   0.773753  \n",
       "3        -1.056317 -0.436504     -0.374664  4.388935 -0.207371  -1.321532  \n",
       "4         0.793304  1.765063     -0.374664  0.056737 -0.566510   0.775482  \n",
       "...            ...       ...           ...       ...       ...        ...  \n",
       "32935     0.793304  1.765063      1.804260  2.079463  1.229182  -1.329602  \n",
       "32936    -1.056317 -0.436504     -0.374664 -0.249384 -0.207371   0.714958  \n",
       "32937     0.793304 -0.436504     -0.374664  0.498482  0.870044   0.774329  \n",
       "32938    -1.056317 -0.436504     -0.374664  1.540844 -0.566510  -1.360152  \n",
       "32939    -1.056317 -0.436504     -0.374664 -0.687254 -0.566510   0.771447  \n",
       "\n",
       "[32940 rows x 11 columns]>"
      ]
     },
     "execution_count": 32,
     "metadata": {},
     "output_type": "execute_result"
    }
   ],
   "source": [
    "X_train.info"
   ]
  },
  {
   "cell_type": "code",
   "execution_count": 33,
   "metadata": {},
   "outputs": [
    {
     "data": {
      "text/plain": [
       "<bound method DataFrame.info of        Unnamed: 0  y_num\n",
       "0            1711      0\n",
       "1           38202      0\n",
       "2           14119      0\n",
       "3           31939      1\n",
       "4           20125      0\n",
       "...           ...    ...\n",
       "32935       32091      0\n",
       "32936        7261      0\n",
       "32937       21592      0\n",
       "32938       36554      0\n",
       "32939       10139      0\n",
       "\n",
       "[32940 rows x 2 columns]>"
      ]
     },
     "execution_count": 33,
     "metadata": {},
     "output_type": "execute_result"
    }
   ],
   "source": [
    "y_train.info"
   ]
  },
  {
   "cell_type": "code",
   "execution_count": 34,
   "metadata": {},
   "outputs": [
    {
     "ename": "ValueError",
     "evalue": "y should be a 1d array, got an array of shape (32940, 2) instead.",
     "output_type": "error",
     "traceback": [
      "\u001b[0;31m---------------------------------------------------------------------------\u001b[0m",
      "\u001b[0;31mValueError\u001b[0m                                Traceback (most recent call last)",
      "\u001b[1;32m/workspaces/machine-learning-python-template/src/logistic_reg.ipynb Celda 5\u001b[0m line \u001b[0;36m4\n\u001b[1;32m      <a href='vscode-notebook-cell://codespaces%2Bshiny-robot-wr7vqrw4vx7wc9g69/workspaces/machine-learning-python-template/src/logistic_reg.ipynb#W4sdnNjb2RlLXJlbW90ZQ%3D%3D?line=0'>1</a>\u001b[0m \u001b[39mfrom\u001b[39;00m \u001b[39msklearn\u001b[39;00m\u001b[39m.\u001b[39;00m\u001b[39mlinear_model\u001b[39;00m \u001b[39mimport\u001b[39;00m LogisticRegression\n\u001b[1;32m      <a href='vscode-notebook-cell://codespaces%2Bshiny-robot-wr7vqrw4vx7wc9g69/workspaces/machine-learning-python-template/src/logistic_reg.ipynb#W4sdnNjb2RlLXJlbW90ZQ%3D%3D?line=2'>3</a>\u001b[0m model \u001b[39m=\u001b[39m LogisticRegression(random_state\u001b[39m=\u001b[39m\u001b[39m11\u001b[39m, solver\u001b[39m=\u001b[39m \u001b[39m'\u001b[39m\u001b[39mnewton-cholesky\u001b[39m\u001b[39m'\u001b[39m)\n\u001b[0;32m----> <a href='vscode-notebook-cell://codespaces%2Bshiny-robot-wr7vqrw4vx7wc9g69/workspaces/machine-learning-python-template/src/logistic_reg.ipynb#W4sdnNjb2RlLXJlbW90ZQ%3D%3D?line=3'>4</a>\u001b[0m model\u001b[39m.\u001b[39;49mfit(X_train, y_train)\n",
      "File \u001b[0;32m~/.local/lib/python3.11/site-packages/sklearn/base.py:1152\u001b[0m, in \u001b[0;36m_fit_context.<locals>.decorator.<locals>.wrapper\u001b[0;34m(estimator, *args, **kwargs)\u001b[0m\n\u001b[1;32m   1145\u001b[0m     estimator\u001b[39m.\u001b[39m_validate_params()\n\u001b[1;32m   1147\u001b[0m \u001b[39mwith\u001b[39;00m config_context(\n\u001b[1;32m   1148\u001b[0m     skip_parameter_validation\u001b[39m=\u001b[39m(\n\u001b[1;32m   1149\u001b[0m         prefer_skip_nested_validation \u001b[39mor\u001b[39;00m global_skip_validation\n\u001b[1;32m   1150\u001b[0m     )\n\u001b[1;32m   1151\u001b[0m ):\n\u001b[0;32m-> 1152\u001b[0m     \u001b[39mreturn\u001b[39;00m fit_method(estimator, \u001b[39m*\u001b[39;49margs, \u001b[39m*\u001b[39;49m\u001b[39m*\u001b[39;49mkwargs)\n",
      "File \u001b[0;32m~/.local/lib/python3.11/site-packages/sklearn/linear_model/_logistic.py:1208\u001b[0m, in \u001b[0;36mLogisticRegression.fit\u001b[0;34m(self, X, y, sample_weight)\u001b[0m\n\u001b[1;32m   1205\u001b[0m \u001b[39melse\u001b[39;00m:\n\u001b[1;32m   1206\u001b[0m     _dtype \u001b[39m=\u001b[39m [np\u001b[39m.\u001b[39mfloat64, np\u001b[39m.\u001b[39mfloat32]\n\u001b[0;32m-> 1208\u001b[0m X, y \u001b[39m=\u001b[39m \u001b[39mself\u001b[39;49m\u001b[39m.\u001b[39;49m_validate_data(\n\u001b[1;32m   1209\u001b[0m     X,\n\u001b[1;32m   1210\u001b[0m     y,\n\u001b[1;32m   1211\u001b[0m     accept_sparse\u001b[39m=\u001b[39;49m\u001b[39m\"\u001b[39;49m\u001b[39mcsr\u001b[39;49m\u001b[39m\"\u001b[39;49m,\n\u001b[1;32m   1212\u001b[0m     dtype\u001b[39m=\u001b[39;49m_dtype,\n\u001b[1;32m   1213\u001b[0m     order\u001b[39m=\u001b[39;49m\u001b[39m\"\u001b[39;49m\u001b[39mC\u001b[39;49m\u001b[39m\"\u001b[39;49m,\n\u001b[1;32m   1214\u001b[0m     accept_large_sparse\u001b[39m=\u001b[39;49msolver \u001b[39mnot\u001b[39;49;00m \u001b[39min\u001b[39;49;00m [\u001b[39m\"\u001b[39;49m\u001b[39mliblinear\u001b[39;49m\u001b[39m\"\u001b[39;49m, \u001b[39m\"\u001b[39;49m\u001b[39msag\u001b[39;49m\u001b[39m\"\u001b[39;49m, \u001b[39m\"\u001b[39;49m\u001b[39msaga\u001b[39;49m\u001b[39m\"\u001b[39;49m],\n\u001b[1;32m   1215\u001b[0m )\n\u001b[1;32m   1216\u001b[0m check_classification_targets(y)\n\u001b[1;32m   1217\u001b[0m \u001b[39mself\u001b[39m\u001b[39m.\u001b[39mclasses_ \u001b[39m=\u001b[39m np\u001b[39m.\u001b[39munique(y)\n",
      "File \u001b[0;32m~/.local/lib/python3.11/site-packages/sklearn/base.py:622\u001b[0m, in \u001b[0;36mBaseEstimator._validate_data\u001b[0;34m(self, X, y, reset, validate_separately, cast_to_ndarray, **check_params)\u001b[0m\n\u001b[1;32m    620\u001b[0m         y \u001b[39m=\u001b[39m check_array(y, input_name\u001b[39m=\u001b[39m\u001b[39m\"\u001b[39m\u001b[39my\u001b[39m\u001b[39m\"\u001b[39m, \u001b[39m*\u001b[39m\u001b[39m*\u001b[39mcheck_y_params)\n\u001b[1;32m    621\u001b[0m     \u001b[39melse\u001b[39;00m:\n\u001b[0;32m--> 622\u001b[0m         X, y \u001b[39m=\u001b[39m check_X_y(X, y, \u001b[39m*\u001b[39;49m\u001b[39m*\u001b[39;49mcheck_params)\n\u001b[1;32m    623\u001b[0m     out \u001b[39m=\u001b[39m X, y\n\u001b[1;32m    625\u001b[0m \u001b[39mif\u001b[39;00m \u001b[39mnot\u001b[39;00m no_val_X \u001b[39mand\u001b[39;00m check_params\u001b[39m.\u001b[39mget(\u001b[39m\"\u001b[39m\u001b[39mensure_2d\u001b[39m\u001b[39m\"\u001b[39m, \u001b[39mTrue\u001b[39;00m):\n",
      "File \u001b[0;32m~/.local/lib/python3.11/site-packages/sklearn/utils/validation.py:1162\u001b[0m, in \u001b[0;36mcheck_X_y\u001b[0;34m(X, y, accept_sparse, accept_large_sparse, dtype, order, copy, force_all_finite, ensure_2d, allow_nd, multi_output, ensure_min_samples, ensure_min_features, y_numeric, estimator)\u001b[0m\n\u001b[1;32m   1142\u001b[0m     \u001b[39mraise\u001b[39;00m \u001b[39mValueError\u001b[39;00m(\n\u001b[1;32m   1143\u001b[0m         \u001b[39mf\u001b[39m\u001b[39m\"\u001b[39m\u001b[39m{\u001b[39;00mestimator_name\u001b[39m}\u001b[39;00m\u001b[39m requires y to be passed, but the target y is None\u001b[39m\u001b[39m\"\u001b[39m\n\u001b[1;32m   1144\u001b[0m     )\n\u001b[1;32m   1146\u001b[0m X \u001b[39m=\u001b[39m check_array(\n\u001b[1;32m   1147\u001b[0m     X,\n\u001b[1;32m   1148\u001b[0m     accept_sparse\u001b[39m=\u001b[39maccept_sparse,\n\u001b[0;32m   (...)\u001b[0m\n\u001b[1;32m   1159\u001b[0m     input_name\u001b[39m=\u001b[39m\u001b[39m\"\u001b[39m\u001b[39mX\u001b[39m\u001b[39m\"\u001b[39m,\n\u001b[1;32m   1160\u001b[0m )\n\u001b[0;32m-> 1162\u001b[0m y \u001b[39m=\u001b[39m _check_y(y, multi_output\u001b[39m=\u001b[39;49mmulti_output, y_numeric\u001b[39m=\u001b[39;49my_numeric, estimator\u001b[39m=\u001b[39;49mestimator)\n\u001b[1;32m   1164\u001b[0m check_consistent_length(X, y)\n\u001b[1;32m   1166\u001b[0m \u001b[39mreturn\u001b[39;00m X, y\n",
      "File \u001b[0;32m~/.local/lib/python3.11/site-packages/sklearn/utils/validation.py:1183\u001b[0m, in \u001b[0;36m_check_y\u001b[0;34m(y, multi_output, y_numeric, estimator)\u001b[0m\n\u001b[1;32m   1181\u001b[0m \u001b[39melse\u001b[39;00m:\n\u001b[1;32m   1182\u001b[0m     estimator_name \u001b[39m=\u001b[39m _check_estimator_name(estimator)\n\u001b[0;32m-> 1183\u001b[0m     y \u001b[39m=\u001b[39m column_or_1d(y, warn\u001b[39m=\u001b[39;49m\u001b[39mTrue\u001b[39;49;00m)\n\u001b[1;32m   1184\u001b[0m     _assert_all_finite(y, input_name\u001b[39m=\u001b[39m\u001b[39m\"\u001b[39m\u001b[39my\u001b[39m\u001b[39m\"\u001b[39m, estimator_name\u001b[39m=\u001b[39mestimator_name)\n\u001b[1;32m   1185\u001b[0m     _ensure_no_complex_data(y)\n",
      "File \u001b[0;32m~/.local/lib/python3.11/site-packages/sklearn/utils/validation.py:1244\u001b[0m, in \u001b[0;36mcolumn_or_1d\u001b[0;34m(y, dtype, warn)\u001b[0m\n\u001b[1;32m   1233\u001b[0m         warnings\u001b[39m.\u001b[39mwarn(\n\u001b[1;32m   1234\u001b[0m             (\n\u001b[1;32m   1235\u001b[0m                 \u001b[39m\"\u001b[39m\u001b[39mA column-vector y was passed when a 1d array was\u001b[39m\u001b[39m\"\u001b[39m\n\u001b[0;32m   (...)\u001b[0m\n\u001b[1;32m   1240\u001b[0m             stacklevel\u001b[39m=\u001b[39m\u001b[39m2\u001b[39m,\n\u001b[1;32m   1241\u001b[0m         )\n\u001b[1;32m   1242\u001b[0m     \u001b[39mreturn\u001b[39;00m _asarray_with_order(xp\u001b[39m.\u001b[39mreshape(y, (\u001b[39m-\u001b[39m\u001b[39m1\u001b[39m,)), order\u001b[39m=\u001b[39m\u001b[39m\"\u001b[39m\u001b[39mC\u001b[39m\u001b[39m\"\u001b[39m, xp\u001b[39m=\u001b[39mxp)\n\u001b[0;32m-> 1244\u001b[0m \u001b[39mraise\u001b[39;00m \u001b[39mValueError\u001b[39;00m(\n\u001b[1;32m   1245\u001b[0m     \u001b[39m\"\u001b[39m\u001b[39my should be a 1d array, got an array of shape \u001b[39m\u001b[39m{}\u001b[39;00m\u001b[39m instead.\u001b[39m\u001b[39m\"\u001b[39m\u001b[39m.\u001b[39mformat(shape)\n\u001b[1;32m   1246\u001b[0m )\n",
      "\u001b[0;31mValueError\u001b[0m: y should be a 1d array, got an array of shape (32940, 2) instead."
     ]
    }
   ],
   "source": [
    "from sklearn.linear_model import LogisticRegression\n",
    "\n",
    "model = LogisticRegression(random_state=11, solver= 'newton-cholesky')\n",
    "model.fit(X_train, y_train)"
   ]
  },
  {
   "cell_type": "code",
   "execution_count": null,
   "metadata": {},
   "outputs": [
    {
     "data": {
      "text/plain": [
       "array([0, 0, 0, ..., 0, 0, 0])"
      ]
     },
     "execution_count": 12,
     "metadata": {},
     "output_type": "execute_result"
    }
   ],
   "source": [
    "from sklearn.metrics import accuracy_score\n",
    "y_pred = model.predict(X_test)\n",
    "y_pred\n"
   ]
  },
  {
   "cell_type": "code",
   "execution_count": null,
   "metadata": {},
   "outputs": [
    {
     "data": {
      "text/plain": [
       "0.9018822100789314"
      ]
     },
     "execution_count": 13,
     "metadata": {},
     "output_type": "execute_result"
    }
   ],
   "source": [
    "accuracy_score(y_test, y_pred)"
   ]
  },
  {
   "cell_type": "code",
   "execution_count": null,
   "metadata": {},
   "outputs": [],
   "source": [
    "# from pickle import dump, load\n",
    "\n",
    "# X_train = pd.read_csv(...) # Cargar predictoras de train normalizado\n",
    "# X_test = pd.read_csv(...) # Cargar predictoras de test normalizado\n",
    "# y_train = pd.read_csv(...) # Cargar target de train\n",
    "# y_test = pd.read_csv(...) # Cargar target de test\n",
    "\n",
    "# accs = []\n",
    "# for p in [1, 0.8, 0.7, 0.6, 0.5]:\n",
    "#     selection_model = SelectKBest(f_classif, k = int(len(X_train.columns) * p))\n",
    "#     selection_model.fit(X_train_norm, y_train)\n",
    "\n",
    "#     ix = selection_model.get_support()\n",
    "#     train_sel = pd.DataFrame(selection_model.transform(X_train), columns = X_train.columns.values[ix])\n",
    "\n",
    "#     dump(selection_model, open(f\"/workspaces/machine-learning-content/assets/selection_model_norm_{p}.pk\", \"wb\"))\n",
    "\n",
    "#     model = LogisticRegression(random_state = 42)\n",
    "#     model.fit(train_sel, y_train)\n",
    "#     y_pred = model.predict(train_sel)\n",
    "#     acc = accuracy_score(y_train, y_pred)\n",
    "#     accs.append(acc)\n",
    "\n",
    "# best_acc = accs.index(max(accs)) # Ha ganado p = 0.7\n",
    "\n",
    "# selection_model = load(open(f\"/workspaces/machine-learning-content/assets/selection_model_norm_0.7.pk\", \"wb\"))\n",
    "\n",
    "# ix = selection_model.get_support()\n",
    "# X_train_norm_sel = pd.DataFrame(selection_model.transform(X_train), columns = X_train.columns.values[ix])\n",
    "# X_test_norm_sel = pd.DataFrame(selection_model.transform(X_test), columns = X_test.columns.values[ix])\n",
    "# model = LogisticRegression(random_state = 42)\n",
    "# model.fit(X_train_norm_sel, y_train)\n",
    "# # y_pred = model.predict(X_train_norm_sel)\n",
    "# # accuracy_best_K_model_base = accuracy_score(y_train, y_pred)\n",
    "# # Opt. de Hiperparámetros\n",
    "# hyperparam = {\n",
    "#     \"penalty\": [\"l1\", \"l2\", \"elasticnet\", None],\n",
    "#     ...\n",
    "#     ...\n",
    "#     ...\n",
    "#     ...\n",
    "    \n",
    "# }"
   ]
  }
 ],
 "metadata": {
  "kernelspec": {
   "display_name": "Python 3",
   "language": "python",
   "name": "python3"
  },
  "language_info": {
   "codemirror_mode": {
    "name": "ipython",
    "version": 3
   },
   "file_extension": ".py",
   "mimetype": "text/x-python",
   "name": "python",
   "nbconvert_exporter": "python",
   "pygments_lexer": "ipython3",
   "version": "3.11.4"
  }
 },
 "nbformat": 4,
 "nbformat_minor": 2
}

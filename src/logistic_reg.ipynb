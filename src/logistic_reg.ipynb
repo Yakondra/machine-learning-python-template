{
 "cells": [
  {
   "cell_type": "markdown",
   "metadata": {},
   "source": [
    "# Logistic regression model"
   ]
  },
  {
   "cell_type": "code",
   "execution_count": null,
   "metadata": {},
   "outputs": [],
   "source": [
    "train_data = pd.read_csv(\"../data/processed/clean_train.csv\")\n",
    "test_data = pd.read_csv(\"../data/processed/clean_test.csv\")\n",
    "\n",
    "train_data.head()"
   ]
  },
  {
   "cell_type": "code",
   "execution_count": null,
   "metadata": {},
   "outputs": [],
   "source": [
    "from pickle import dump, load\n",
    "\n",
    "X_train = pd.read_csv(...) # Cargar predictoras de train normalizado\n",
    "X_test = pd.read_csv(...) # Cargar predictoras de test normalizado\n",
    "y_train = pd.read_csv(...) # Cargar target de train\n",
    "y_test = pd.read_csv(...) # Cargar target de test\n",
    "\n",
    "accs = []\n",
    "for p in [1, 0.8, 0.7, 0.6, 0.5]:\n",
    "    selection_model = SelectKBest(f_classif, k = int(len(X_train.columns) * p))\n",
    "    selection_model.fit(X_train_norm, y_train)\n",
    "\n",
    "    ix = selection_model.get_support()\n",
    "    train_sel = pd.DataFrame(selection_model.transform(X_train), columns = X_train.columns.values[ix])\n",
    "\n",
    "    dump(selection_model, open(f\"/workspaces/machine-learning-content/assets/selection_model_norm_{p}.pk\", \"wb\"))\n",
    "\n",
    "    model = LogisticRegression(random_state = 42)\n",
    "    model.fit(train_sel, y_train)\n",
    "    y_pred = model.predict(train_sel)\n",
    "    acc = accuracy_score(y_train, y_pred)\n",
    "    accs.append(acc)\n",
    "\n",
    "best_acc = accs.index(max(accs)) # Ha ganado p = 0.7\n",
    "\n",
    "selection_model = load(open(f\"/workspaces/machine-learning-content/assets/selection_model_norm_0.7.pk\", \"wb\"))\n",
    "\n",
    "ix = selection_model.get_support()\n",
    "X_train_norm_sel = pd.DataFrame(selection_model.transform(X_train), columns = X_train.columns.values[ix])\n",
    "X_test_norm_sel = pd.DataFrame(selection_model.transform(X_test), columns = X_test.columns.values[ix])\n",
    "model = LogisticRegression(random_state = 42)\n",
    "model.fit(X_train_norm_sel, y_train)\n",
    "# y_pred = model.predict(X_train_norm_sel)\n",
    "# accuracy_best_K_model_base = accuracy_score(y_train, y_pred)\n",
    "# Opt. de Hiperparámetros\n",
    "hyperparam = {\n",
    "    \"penalty\": [\"l1\", \"l2\", \"elasticnet\", None],\n",
    "    ...\n",
    "    ...\n",
    "    ...\n",
    "    ...\n",
    "    \n",
    "}"
   ]
  }
 ],
 "metadata": {
  "language_info": {
   "name": "python"
  }
 },
 "nbformat": 4,
 "nbformat_minor": 2
}

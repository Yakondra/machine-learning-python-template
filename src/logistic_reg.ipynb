{
 "cells": [
  {
   "cell_type": "markdown",
   "metadata": {},
   "source": [
    "# Logistic regression model"
   ]
  },
  {
   "cell_type": "code",
   "execution_count": 20,
   "metadata": {},
   "outputs": [
    {
     "data": {
      "text/html": [
       "<div>\n",
       "<style scoped>\n",
       "    .dataframe tbody tr th:only-of-type {\n",
       "        vertical-align: middle;\n",
       "    }\n",
       "\n",
       "    .dataframe tbody tr th {\n",
       "        vertical-align: top;\n",
       "    }\n",
       "\n",
       "    .dataframe thead th {\n",
       "        text-align: right;\n",
       "    }\n",
       "</style>\n",
       "<table border=\"1\" class=\"dataframe\">\n",
       "  <thead>\n",
       "    <tr style=\"text-align: right;\">\n",
       "      <th></th>\n",
       "      <th>age</th>\n",
       "      <th>job_num</th>\n",
       "      <th>marital_num</th>\n",
       "      <th>education_num</th>\n",
       "      <th>default_num</th>\n",
       "      <th>housing_num</th>\n",
       "      <th>loan_num</th>\n",
       "      <th>poutcome_num</th>\n",
       "      <th>duration</th>\n",
       "      <th>campaign</th>\n",
       "      <th>euribor3m</th>\n",
       "    </tr>\n",
       "  </thead>\n",
       "  <tbody>\n",
       "    <tr>\n",
       "      <th>0</th>\n",
       "      <td>-0.866345</td>\n",
       "      <td>0.137094</td>\n",
       "      <td>-0.733467</td>\n",
       "      <td>0.32667</td>\n",
       "      <td>-0.514523</td>\n",
       "      <td>-1.056317</td>\n",
       "      <td>-0.436504</td>\n",
       "      <td>-0.374664</td>\n",
       "      <td>-0.001387</td>\n",
       "      <td>-0.207371</td>\n",
       "      <td>0.712076</td>\n",
       "    </tr>\n",
       "    <tr>\n",
       "      <th>1</th>\n",
       "      <td>2.212954</td>\n",
       "      <td>0.544591</td>\n",
       "      <td>-0.733467</td>\n",
       "      <td>-1.04707</td>\n",
       "      <td>-0.514523</td>\n",
       "      <td>0.793304</td>\n",
       "      <td>-0.436504</td>\n",
       "      <td>-0.374664</td>\n",
       "      <td>0.250485</td>\n",
       "      <td>-0.566510</td>\n",
       "      <td>-1.659890</td>\n",
       "    </tr>\n",
       "    <tr>\n",
       "      <th>2</th>\n",
       "      <td>-0.096520</td>\n",
       "      <td>-0.270403</td>\n",
       "      <td>0.698855</td>\n",
       "      <td>-1.04707</td>\n",
       "      <td>-0.514523</td>\n",
       "      <td>0.793304</td>\n",
       "      <td>1.765063</td>\n",
       "      <td>-0.374664</td>\n",
       "      <td>0.068362</td>\n",
       "      <td>0.151767</td>\n",
       "      <td>0.773753</td>\n",
       "    </tr>\n",
       "    <tr>\n",
       "      <th>3</th>\n",
       "      <td>-1.155029</td>\n",
       "      <td>-0.677899</td>\n",
       "      <td>0.698855</td>\n",
       "      <td>-1.04707</td>\n",
       "      <td>1.941411</td>\n",
       "      <td>-1.056317</td>\n",
       "      <td>-0.436504</td>\n",
       "      <td>-0.374664</td>\n",
       "      <td>4.388935</td>\n",
       "      <td>-0.207371</td>\n",
       "      <td>-1.321532</td>\n",
       "    </tr>\n",
       "    <tr>\n",
       "      <th>4</th>\n",
       "      <td>1.058217</td>\n",
       "      <td>0.137094</td>\n",
       "      <td>-0.733467</td>\n",
       "      <td>0.32667</td>\n",
       "      <td>1.941411</td>\n",
       "      <td>0.793304</td>\n",
       "      <td>1.765063</td>\n",
       "      <td>-0.374664</td>\n",
       "      <td>0.056737</td>\n",
       "      <td>-0.566510</td>\n",
       "      <td>0.775482</td>\n",
       "    </tr>\n",
       "  </tbody>\n",
       "</table>\n",
       "</div>"
      ],
      "text/plain": [
       "        age   job_num  marital_num  education_num  default_num  housing_num  \\\n",
       "0 -0.866345  0.137094    -0.733467        0.32667    -0.514523    -1.056317   \n",
       "1  2.212954  0.544591    -0.733467       -1.04707    -0.514523     0.793304   \n",
       "2 -0.096520 -0.270403     0.698855       -1.04707    -0.514523     0.793304   \n",
       "3 -1.155029 -0.677899     0.698855       -1.04707     1.941411    -1.056317   \n",
       "4  1.058217  0.137094    -0.733467        0.32667     1.941411     0.793304   \n",
       "\n",
       "   loan_num  poutcome_num  duration  campaign  euribor3m  \n",
       "0 -0.436504     -0.374664 -0.001387 -0.207371   0.712076  \n",
       "1 -0.436504     -0.374664  0.250485 -0.566510  -1.659890  \n",
       "2  1.765063     -0.374664  0.068362  0.151767   0.773753  \n",
       "3 -0.436504     -0.374664  4.388935 -0.207371  -1.321532  \n",
       "4  1.765063     -0.374664  0.056737 -0.566510   0.775482  "
      ]
     },
     "execution_count": 20,
     "metadata": {},
     "output_type": "execute_result"
    }
   ],
   "source": [
    "import pandas as pd\n",
    "\n",
    "train_data = pd.read_csv(\"../data/processed/data_bank_train_X_norm.csv\")\n",
    "test_data = pd.read_csv(\"../data/processed/data_bank_test_X_norm.csv\")\n",
    "\n",
    "X_train = pd.read_csv('../data/processed/data_bank_train_X_norm.csv')\n",
    "X_test = pd.read_csv('../data/processed/data_bank_test_X_norm.csv')\n",
    "Y_train = pd.read_csv('../data/processed/data_bank_train_Y.csv')\n",
    "Y_test = pd.read_csv('../data/processed/data_bank_test_Y.csv')\n",
    "\n",
    "train_data.head()"
   ]
  },
  {
   "cell_type": "code",
   "execution_count": 27,
   "metadata": {},
   "outputs": [
    {
     "data": {
      "text/html": [
       "<div>\n",
       "<style scoped>\n",
       "    .dataframe tbody tr th:only-of-type {\n",
       "        vertical-align: middle;\n",
       "    }\n",
       "\n",
       "    .dataframe tbody tr th {\n",
       "        vertical-align: top;\n",
       "    }\n",
       "\n",
       "    .dataframe thead th {\n",
       "        text-align: right;\n",
       "    }\n",
       "</style>\n",
       "<table border=\"1\" class=\"dataframe\">\n",
       "  <thead>\n",
       "    <tr style=\"text-align: right;\">\n",
       "      <th></th>\n",
       "      <th>y_num</th>\n",
       "    </tr>\n",
       "  </thead>\n",
       "  <tbody>\n",
       "    <tr>\n",
       "      <th>0</th>\n",
       "      <td>0</td>\n",
       "    </tr>\n",
       "    <tr>\n",
       "      <th>1</th>\n",
       "      <td>0</td>\n",
       "    </tr>\n",
       "    <tr>\n",
       "      <th>2</th>\n",
       "      <td>0</td>\n",
       "    </tr>\n",
       "    <tr>\n",
       "      <th>3</th>\n",
       "      <td>1</td>\n",
       "    </tr>\n",
       "    <tr>\n",
       "      <th>4</th>\n",
       "      <td>0</td>\n",
       "    </tr>\n",
       "  </tbody>\n",
       "</table>\n",
       "</div>"
      ],
      "text/plain": [
       "   y_num\n",
       "0      0\n",
       "1      0\n",
       "2      0\n",
       "3      1\n",
       "4      0"
      ]
     },
     "execution_count": 27,
     "metadata": {},
     "output_type": "execute_result"
    }
   ],
   "source": [
    "Y_train.head()"
   ]
  },
  {
   "cell_type": "code",
   "execution_count": 22,
   "metadata": {},
   "outputs": [
    {
     "name": "stderr",
     "output_type": "stream",
     "text": [
      "/home/vscode/.local/lib/python3.11/site-packages/sklearn/utils/validation.py:1183: DataConversionWarning: A column-vector y was passed when a 1d array was expected. Please change the shape of y to (n_samples, ), for example using ravel().\n",
      "  y = column_or_1d(y, warn=True)\n"
     ]
    },
    {
     "data": {
      "text/html": [
       "<style>#sk-container-id-1 {color: black;}#sk-container-id-1 pre{padding: 0;}#sk-container-id-1 div.sk-toggleable {background-color: white;}#sk-container-id-1 label.sk-toggleable__label {cursor: pointer;display: block;width: 100%;margin-bottom: 0;padding: 0.3em;box-sizing: border-box;text-align: center;}#sk-container-id-1 label.sk-toggleable__label-arrow:before {content: \"▸\";float: left;margin-right: 0.25em;color: #696969;}#sk-container-id-1 label.sk-toggleable__label-arrow:hover:before {color: black;}#sk-container-id-1 div.sk-estimator:hover label.sk-toggleable__label-arrow:before {color: black;}#sk-container-id-1 div.sk-toggleable__content {max-height: 0;max-width: 0;overflow: hidden;text-align: left;background-color: #f0f8ff;}#sk-container-id-1 div.sk-toggleable__content pre {margin: 0.2em;color: black;border-radius: 0.25em;background-color: #f0f8ff;}#sk-container-id-1 input.sk-toggleable__control:checked~div.sk-toggleable__content {max-height: 200px;max-width: 100%;overflow: auto;}#sk-container-id-1 input.sk-toggleable__control:checked~label.sk-toggleable__label-arrow:before {content: \"▾\";}#sk-container-id-1 div.sk-estimator input.sk-toggleable__control:checked~label.sk-toggleable__label {background-color: #d4ebff;}#sk-container-id-1 div.sk-label input.sk-toggleable__control:checked~label.sk-toggleable__label {background-color: #d4ebff;}#sk-container-id-1 input.sk-hidden--visually {border: 0;clip: rect(1px 1px 1px 1px);clip: rect(1px, 1px, 1px, 1px);height: 1px;margin: -1px;overflow: hidden;padding: 0;position: absolute;width: 1px;}#sk-container-id-1 div.sk-estimator {font-family: monospace;background-color: #f0f8ff;border: 1px dotted black;border-radius: 0.25em;box-sizing: border-box;margin-bottom: 0.5em;}#sk-container-id-1 div.sk-estimator:hover {background-color: #d4ebff;}#sk-container-id-1 div.sk-parallel-item::after {content: \"\";width: 100%;border-bottom: 1px solid gray;flex-grow: 1;}#sk-container-id-1 div.sk-label:hover label.sk-toggleable__label {background-color: #d4ebff;}#sk-container-id-1 div.sk-serial::before {content: \"\";position: absolute;border-left: 1px solid gray;box-sizing: border-box;top: 0;bottom: 0;left: 50%;z-index: 0;}#sk-container-id-1 div.sk-serial {display: flex;flex-direction: column;align-items: center;background-color: white;padding-right: 0.2em;padding-left: 0.2em;position: relative;}#sk-container-id-1 div.sk-item {position: relative;z-index: 1;}#sk-container-id-1 div.sk-parallel {display: flex;align-items: stretch;justify-content: center;background-color: white;position: relative;}#sk-container-id-1 div.sk-item::before, #sk-container-id-1 div.sk-parallel-item::before {content: \"\";position: absolute;border-left: 1px solid gray;box-sizing: border-box;top: 0;bottom: 0;left: 50%;z-index: -1;}#sk-container-id-1 div.sk-parallel-item {display: flex;flex-direction: column;z-index: 1;position: relative;background-color: white;}#sk-container-id-1 div.sk-parallel-item:first-child::after {align-self: flex-end;width: 50%;}#sk-container-id-1 div.sk-parallel-item:last-child::after {align-self: flex-start;width: 50%;}#sk-container-id-1 div.sk-parallel-item:only-child::after {width: 0;}#sk-container-id-1 div.sk-dashed-wrapped {border: 1px dashed gray;margin: 0 0.4em 0.5em 0.4em;box-sizing: border-box;padding-bottom: 0.4em;background-color: white;}#sk-container-id-1 div.sk-label label {font-family: monospace;font-weight: bold;display: inline-block;line-height: 1.2em;}#sk-container-id-1 div.sk-label-container {text-align: center;}#sk-container-id-1 div.sk-container {/* jupyter's `normalize.less` sets `[hidden] { display: none; }` but bootstrap.min.css set `[hidden] { display: none !important; }` so we also need the `!important` here to be able to override the default hidden behavior on the sphinx rendered scikit-learn.org. See: https://github.com/scikit-learn/scikit-learn/issues/21755 */display: inline-block !important;position: relative;}#sk-container-id-1 div.sk-text-repr-fallback {display: none;}</style><div id=\"sk-container-id-1\" class=\"sk-top-container\"><div class=\"sk-text-repr-fallback\"><pre>LogisticRegression()</pre><b>In a Jupyter environment, please rerun this cell to show the HTML representation or trust the notebook. <br />On GitHub, the HTML representation is unable to render, please try loading this page with nbviewer.org.</b></div><div class=\"sk-container\" hidden><div class=\"sk-item\"><div class=\"sk-estimator sk-toggleable\"><input class=\"sk-toggleable__control sk-hidden--visually\" id=\"sk-estimator-id-1\" type=\"checkbox\" checked><label for=\"sk-estimator-id-1\" class=\"sk-toggleable__label sk-toggleable__label-arrow\">LogisticRegression</label><div class=\"sk-toggleable__content\"><pre>LogisticRegression()</pre></div></div></div></div></div>"
      ],
      "text/plain": [
       "LogisticRegression()"
      ]
     },
     "execution_count": 22,
     "metadata": {},
     "output_type": "execute_result"
    }
   ],
   "source": [
    "from sklearn.linear_model import LogisticRegression\n",
    "\n",
    "model = LogisticRegression()\n",
    "model.fit(X_train, Y_train)"
   ]
  },
  {
   "cell_type": "code",
   "execution_count": 23,
   "metadata": {},
   "outputs": [
    {
     "ename": "SyntaxError",
     "evalue": "':' expected after dictionary key (2340159840.py, line 38)",
     "output_type": "error",
     "traceback": [
      "\u001b[0;36m  Cell \u001b[0;32mIn[23], line 38\u001b[0;36m\u001b[0m\n\u001b[0;31m    ...\u001b[0m\n\u001b[0m      ^\u001b[0m\n\u001b[0;31mSyntaxError\u001b[0m\u001b[0;31m:\u001b[0m ':' expected after dictionary key\n"
     ]
    }
   ],
   "source": [
    "from pickle import dump, load\n",
    "\n",
    "X_train = pd.read_csv(...) # Cargar predictoras de train normalizado\n",
    "X_test = pd.read_csv(...) # Cargar predictoras de test normalizado\n",
    "y_train = pd.read_csv(...) # Cargar target de train\n",
    "y_test = pd.read_csv(...) # Cargar target de test\n",
    "\n",
    "accs = []\n",
    "for p in [1, 0.8, 0.7, 0.6, 0.5]:\n",
    "    selection_model = SelectKBest(f_classif, k = int(len(X_train.columns) * p))\n",
    "    selection_model.fit(X_train_norm, y_train)\n",
    "\n",
    "    ix = selection_model.get_support()\n",
    "    train_sel = pd.DataFrame(selection_model.transform(X_train), columns = X_train.columns.values[ix])\n",
    "\n",
    "    dump(selection_model, open(f\"/workspaces/machine-learning-content/assets/selection_model_norm_{p}.pk\", \"wb\"))\n",
    "\n",
    "    model = LogisticRegression(random_state = 42)\n",
    "    model.fit(train_sel, y_train)\n",
    "    y_pred = model.predict(train_sel)\n",
    "    acc = accuracy_score(y_train, y_pred)\n",
    "    accs.append(acc)\n",
    "\n",
    "best_acc = accs.index(max(accs)) # Ha ganado p = 0.7\n",
    "\n",
    "selection_model = load(open(f\"/workspaces/machine-learning-content/assets/selection_model_norm_0.7.pk\", \"wb\"))\n",
    "\n",
    "ix = selection_model.get_support()\n",
    "X_train_norm_sel = pd.DataFrame(selection_model.transform(X_train), columns = X_train.columns.values[ix])\n",
    "X_test_norm_sel = pd.DataFrame(selection_model.transform(X_test), columns = X_test.columns.values[ix])\n",
    "model = LogisticRegression(random_state = 42)\n",
    "model.fit(X_train_norm_sel, y_train)\n",
    "# y_pred = model.predict(X_train_norm_sel)\n",
    "# accuracy_best_K_model_base = accuracy_score(y_train, y_pred)\n",
    "# Opt. de Hiperparámetros\n",
    "hyperparam = {\n",
    "    \"penalty\": [\"l1\", \"l2\", \"elasticnet\", None],\n",
    "    ...\n",
    "    ...\n",
    "    ...\n",
    "    ...\n",
    "    \n",
    "}"
   ]
  }
 ],
 "metadata": {
  "kernelspec": {
   "display_name": "Python 3",
   "language": "python",
   "name": "python3"
  },
  "language_info": {
   "codemirror_mode": {
    "name": "ipython",
    "version": 3
   },
   "file_extension": ".py",
   "mimetype": "text/x-python",
   "name": "python",
   "nbconvert_exporter": "python",
   "pygments_lexer": "ipython3",
   "version": "3.11.4"
  }
 },
 "nbformat": 4,
 "nbformat_minor": 2
}
